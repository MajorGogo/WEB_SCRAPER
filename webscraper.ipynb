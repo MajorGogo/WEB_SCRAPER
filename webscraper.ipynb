{
 "cells": [
  {
   "cell_type": "code",
   "execution_count": 1,
   "id": "a293bb0a",
   "metadata": {},
   "outputs": [],
   "source": [
    "from bs4 import BeautifulSoup\n",
    "import csv\n",
    "\n",
    "# Load and parse the HTML file\n",
    "with open('Amazon.html', 'r', encoding='utf-8') as file:\n",
    "    html_content = file.read()\n",
    "\n",
    "soup = BeautifulSoup(html_content, 'html.parser')\n",
    "\n",
    "# Define the class name for the container div\n",
    "container_class = \"puis-card-container s-card-container s-overflow-hidden aok-relative puis-include-content-margin puis puis-v1nyb4igz33igf2j9heq96r9jtz s-latency-cf-section puis-card-border\"\n",
    "\n",
    "# Find all divs with the specified class\n",
    "containers = soup.find_all('div', class_=container_class)\n",
    "\n",
    "# Open a CSV file to write the extracted data\n",
    "with open('phones_data.csv', 'w', newline='', encoding='utf-8') as csvfile:\n",
    "    csvwriter = csv.writer(csvfile)\n",
    "    csvwriter.writerow(['Phone_Name', 'Phone_Price', 'Ratings', 'Number_Of_Reviews'])\n",
    "\n",
    "    for container in containers:\n",
    "        try:\n",
    "            phone_name = container.find('span', class_='a-size-medium a-color-base a-text-normal').text.strip()\n",
    "        except AttributeError:\n",
    "            phone_name = \"\"\n",
    "\n",
    "        try:\n",
    "            phone_price = container.find('span', class_='a-price-whole').text.strip()\n",
    "        except AttributeError:\n",
    "            phone_price = \"\"\n",
    "\n",
    "        try:\n",
    "            ratings = container.find('span', class_='a-icon-alt').text.strip()\n",
    "        except AttributeError:\n",
    "            ratings = \"\"\n",
    "\n",
    "        try:\n",
    "            number_of_reviews = container.find('span', class_='a-size-base s-underline-text').text.strip()\n",
    "        except AttributeError:\n",
    "            number_of_reviews = \"\"\n",
    "\n",
    "        csvwriter.writerow([phone_name, phone_price, ratings, number_of_reviews])\n",
    "  "
   ]
  },
  {
   "cell_type": "code",
   "execution_count": null,
   "id": "d6a860b6",
   "metadata": {},
   "outputs": [],
   "source": []
  }
 ],
 "metadata": {
  "kernelspec": {
   "display_name": "Python 3 (ipykernel)",
   "language": "python",
   "name": "python3"
  },
  "language_info": {
   "codemirror_mode": {
    "name": "ipython",
    "version": 3
   },
   "file_extension": ".py",
   "mimetype": "text/x-python",
   "name": "python",
   "nbconvert_exporter": "python",
   "pygments_lexer": "ipython3",
   "version": "3.11.5"
  }
 },
 "nbformat": 4,
 "nbformat_minor": 5
}
