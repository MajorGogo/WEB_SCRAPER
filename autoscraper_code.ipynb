{
 "cells": [
  {
   "cell_type": "code",
   "execution_count": 10,
   "id": "7267b846-af05-4ff1-9788-8f58c6e79e60",
   "metadata": {},
   "outputs": [
    {
     "name": "stdout",
     "output_type": "stream",
     "text": [
      "Requirement already satisfied: autoscraper in d:\\new folder\\envs\\machine_learning\\lib\\site-packages (1.1.14)\n",
      "Requirement already satisfied: requests in d:\\new folder\\envs\\machine_learning\\lib\\site-packages (from autoscraper) (2.31.0)\n",
      "Requirement already satisfied: bs4 in d:\\new folder\\envs\\machine_learning\\lib\\site-packages (from autoscraper) (0.0.2)\n",
      "Requirement already satisfied: lxml in d:\\new folder\\envs\\machine_learning\\lib\\site-packages (from autoscraper) (5.1.0)\n",
      "Requirement already satisfied: beautifulsoup4 in d:\\new folder\\envs\\machine_learning\\lib\\site-packages (from bs4->autoscraper) (4.12.2)\n",
      "Requirement already satisfied: charset-normalizer<4,>=2 in d:\\new folder\\envs\\machine_learning\\lib\\site-packages (from requests->autoscraper) (2.0.4)\n",
      "Requirement already satisfied: idna<4,>=2.5 in d:\\new folder\\envs\\machine_learning\\lib\\site-packages (from requests->autoscraper) (3.4)\n",
      "Requirement already satisfied: urllib3<3,>=1.21.1 in d:\\new folder\\envs\\machine_learning\\lib\\site-packages (from requests->autoscraper) (2.1.0)\n",
      "Requirement already satisfied: certifi>=2017.4.17 in d:\\new folder\\envs\\machine_learning\\lib\\site-packages (from requests->autoscraper) (2024.2.2)\n",
      "Requirement already satisfied: soupsieve>1.2 in d:\\new folder\\envs\\machine_learning\\lib\\site-packages (from beautifulsoup4->bs4->autoscraper) (2.5)\n"
     ]
    }
   ],
   "source": [
    "!pip install autoscraper\n"
   ]
  },
  {
   "cell_type": "code",
   "execution_count": 11,
   "id": "b496b6cf-0cc0-4621-8d17-689d5c22155d",
   "metadata": {},
   "outputs": [],
   "source": [
    "from autoscraper import AutoScraper"
   ]
  },
  {
   "cell_type": "code",
   "execution_count": 12,
   "id": "e0a06e59-f410-45bf-9c60-624aadc9a70a",
   "metadata": {},
   "outputs": [],
   "source": [
    "url=\"https://www.amazon.in/s?k=iphones&crid=3VRYQ2JVA6ZZF&sprefix=iphone%2Caps%2C333&ref=nb_sb_noss_1\"\n",
    "\n",
    "\n",
    "wanted_list=[\"Apple iPhone 15 (128 GB) - Green\",\"₹70,999\",\"1,820\"]"
   ]
  },
  {
   "cell_type": "code",
   "execution_count": 13,
   "id": "ed7af4d1-0beb-4f4c-8711-20dd36a51d68",
   "metadata": {},
   "outputs": [
    {
     "name": "stdout",
     "output_type": "stream",
     "text": [
      "['Apple iPhone 13 (128GB) - Midnight', 'Apple iPhone 13 (128GB) - Green', 'Apple iPhone 15 (128 GB) - Black', 'Apple iPhone 15 (128 GB) - Blue', 'Apple iPhone 14 (128 GB) - Blue', 'Apple iPhone 13 (128GB) - Starlight', 'Apple iPhone 13 (128GB) - Pink', 'Apple iPhone 13 (128GB) - Blue', 'Apple iPhone 15 Plus (128 GB) - Black', 'Apple iPhone 14 Plus (128 GB) - Purple', 'Apple iPhone 15 (128 GB) - Green', 'Apple iPhone 15 (128 GB) - Pink', 'Apple iPhone 13 (256GB) - Blue', 'Apple iPhone 12 (64GB) - Purple', 'Apple iPhone 14 (128 GB) - Purple', 'Apple iPhone 15 Pro (256 GB) - Natural Titanium', 'Apple iPhone 14 (128 GB) - Midnight', '₹49,300', '₹70,999', '₹62,800', '₹52,900', '₹52,090', '₹81,999', '₹64,999', '₹59,900', '₹44,999', '₹1,37,600', '27,995', '1,820', '5,345', '858', '1,932', '32,379', '281']\n"
     ]
    }
   ],
   "source": [
    "scraper=AutoScraper()\n",
    "\n",
    "result=scraper.build(url,wanted_list)\n",
    "print(result)"
   ]
  },
  {
   "cell_type": "code",
   "execution_count": 14,
   "id": "3ae767c3-4d83-4630-9b00-3f417f721cd7",
   "metadata": {},
   "outputs": [
    {
     "data": {
      "text/plain": [
       "{'rule_vw4t': ['Apple iPhone 13 (128GB) - Midnight',\n",
       "  'Apple iPhone 13 (128GB) - Green',\n",
       "  'Apple iPhone 15 (128 GB) - Black',\n",
       "  'Apple iPhone 15 (128 GB) - Blue',\n",
       "  'Apple iPhone 14 (128 GB) - Blue',\n",
       "  'Apple iPhone 13 (128GB) - Starlight',\n",
       "  'Apple iPhone 13 (128GB) - Pink',\n",
       "  'Apple iPhone 13 (128GB) - Blue',\n",
       "  'Apple iPhone 15 Plus (128 GB) - Black',\n",
       "  'Apple iPhone 14 Plus (128 GB) - Purple',\n",
       "  'Apple iPhone 15 (128 GB) - Green',\n",
       "  'Apple iPhone 15 (128 GB) - Pink',\n",
       "  'Apple iPhone 13 (256GB) - Blue',\n",
       "  'Apple iPhone 12 (64GB) - Purple',\n",
       "  'Apple iPhone 14 (128 GB) - Purple',\n",
       "  'Apple iPhone 13 (256GB) - Starlight'],\n",
       " 'rule_eqv3': ['Apple iPhone 13 (128GB) - Midnight',\n",
       "  'Apple iPhone 13 (128GB) - Green',\n",
       "  'Apple iPhone 15 (128 GB) - Black',\n",
       "  'Apple iPhone 15 (128 GB) - Blue',\n",
       "  'Apple iPhone 14 (128 GB) - Blue',\n",
       "  'Apple iPhone 13 (128GB) - Starlight',\n",
       "  'Apple iPhone 13 (128GB) - Pink',\n",
       "  'Apple iPhone 13 (128GB) - Blue',\n",
       "  'Apple iPhone 15 Plus (128 GB) - Black',\n",
       "  'Apple iPhone 14 Plus (128 GB) - Purple',\n",
       "  'Apple iPhone 15 (128 GB) - Green',\n",
       "  'Apple iPhone 15 (128 GB) - Pink',\n",
       "  'Apple iPhone 13 (256GB) - Blue',\n",
       "  'Apple iPhone 12 (64GB) - Purple',\n",
       "  'Apple iPhone 14 (128 GB) - Purple',\n",
       "  'Apple iPhone 13 (256GB) - Starlight'],\n",
       " 'rule_awc2': ['Apple iPhone 14 (128 GB) - Midnight',\n",
       "  'Apple iPhone 15 (128 GB) - Yellow'],\n",
       " 'rule_trkd': ['₹49,300',\n",
       "  '₹49,300',\n",
       "  '₹70,999',\n",
       "  '₹70,999',\n",
       "  '₹62,800',\n",
       "  '₹52,900',\n",
       "  '₹52,090',\n",
       "  '₹52,090',\n",
       "  '₹81,999',\n",
       "  '₹64,999',\n",
       "  '₹70,999',\n",
       "  '₹70,999',\n",
       "  '₹59,900',\n",
       "  '₹44,999',\n",
       "  '₹62,800',\n",
       "  '₹59,900'],\n",
       " 'rule_d1i9': ['₹49,300',\n",
       "  '₹49,300',\n",
       "  '₹70,999',\n",
       "  '₹70,999',\n",
       "  '₹62,800',\n",
       "  '₹52,900',\n",
       "  '₹52,090',\n",
       "  '₹52,090',\n",
       "  '₹81,999',\n",
       "  '₹64,999',\n",
       "  '₹70,999',\n",
       "  '₹70,999',\n",
       "  '₹59,900',\n",
       "  '₹44,999',\n",
       "  '₹62,800',\n",
       "  '₹59,900'],\n",
       " 'rule_iqfl': ['₹49,300',\n",
       "  '₹49,300',\n",
       "  '₹70,999',\n",
       "  '₹70,999',\n",
       "  '₹62,800',\n",
       "  '₹52,900',\n",
       "  '₹52,090',\n",
       "  '₹52,090',\n",
       "  '₹81,999',\n",
       "  '₹64,999',\n",
       "  '₹70,999',\n",
       "  '₹70,999',\n",
       "  '₹59,900',\n",
       "  '₹44,999',\n",
       "  '₹62,800',\n",
       "  '₹59,900'],\n",
       " 'rule_5rjm': ['₹49,300',\n",
       "  '₹49,300',\n",
       "  '₹70,999',\n",
       "  '₹70,999',\n",
       "  '₹62,800',\n",
       "  '₹52,900',\n",
       "  '₹52,090',\n",
       "  '₹52,090',\n",
       "  '₹81,999',\n",
       "  '₹64,999',\n",
       "  '₹70,999',\n",
       "  '₹70,999',\n",
       "  '₹59,900',\n",
       "  '₹44,999',\n",
       "  '₹62,800',\n",
       "  '₹59,900'],\n",
       " 'rule_eeu9': ['₹49,300',\n",
       "  '₹49,300',\n",
       "  '₹70,999',\n",
       "  '₹70,999',\n",
       "  '₹62,800',\n",
       "  '₹52,900',\n",
       "  '₹52,090',\n",
       "  '₹52,090',\n",
       "  '₹81,999',\n",
       "  '₹64,999',\n",
       "  '₹70,999',\n",
       "  '₹70,999',\n",
       "  '₹59,900',\n",
       "  '₹44,999',\n",
       "  '₹62,800',\n",
       "  '₹59,900'],\n",
       " 'rule_6li5': ['₹49,300',\n",
       "  '₹49,300',\n",
       "  '₹70,999',\n",
       "  '₹70,999',\n",
       "  '₹62,800',\n",
       "  '₹52,900',\n",
       "  '₹52,090',\n",
       "  '₹52,090',\n",
       "  '₹81,999',\n",
       "  '₹64,999',\n",
       "  '₹70,999',\n",
       "  '₹70,999',\n",
       "  '₹59,900',\n",
       "  '₹44,999',\n",
       "  '₹62,800',\n",
       "  '₹59,900'],\n",
       " 'rule_9ntz': ['₹49,300',\n",
       "  '₹49,300',\n",
       "  '₹70,999',\n",
       "  '₹70,999',\n",
       "  '₹62,800',\n",
       "  '₹52,900',\n",
       "  '₹52,090',\n",
       "  '₹52,090',\n",
       "  '₹81,999',\n",
       "  '₹64,999',\n",
       "  '₹70,999',\n",
       "  '₹70,999',\n",
       "  '₹59,900',\n",
       "  '₹44,999',\n",
       "  '₹62,800',\n",
       "  '₹59,900'],\n",
       " 'rule_kp14': ['₹49,300',\n",
       "  '₹49,300',\n",
       "  '₹70,999',\n",
       "  '₹70,999',\n",
       "  '₹62,800',\n",
       "  '₹52,900',\n",
       "  '₹52,090',\n",
       "  '₹52,090',\n",
       "  '₹81,999',\n",
       "  '₹64,999',\n",
       "  '₹70,999',\n",
       "  '₹70,999',\n",
       "  '₹59,900',\n",
       "  '₹44,999',\n",
       "  '₹62,800',\n",
       "  '₹59,900'],\n",
       " 'rule_t2rd': ['₹62,800', '₹70,999'],\n",
       " 'rule_1tlb': ['₹62,800', '₹70,999'],\n",
       " 'rule_d7yx': ['27,995',\n",
       "  '27,995',\n",
       "  '1,820',\n",
       "  '1,820',\n",
       "  '5,345',\n",
       "  '27,995',\n",
       "  '27,995',\n",
       "  '27,995',\n",
       "  '858',\n",
       "  '1,932',\n",
       "  '1,820',\n",
       "  '1,820',\n",
       "  '27,995',\n",
       "  '32,379',\n",
       "  '5,345',\n",
       "  '27,995'],\n",
       " 'rule_03qg': ['27,995',\n",
       "  '27,995',\n",
       "  '1,820',\n",
       "  '1,820',\n",
       "  '5,345',\n",
       "  '27,995',\n",
       "  '27,995',\n",
       "  '27,995',\n",
       "  '858',\n",
       "  '1,932',\n",
       "  '1,820',\n",
       "  '1,820',\n",
       "  '27,995',\n",
       "  '32,379',\n",
       "  '5,345',\n",
       "  '27,995'],\n",
       " 'rule_nhiy': ['27,995',\n",
       "  '27,995',\n",
       "  '1,820',\n",
       "  '1,820',\n",
       "  '5,345',\n",
       "  '27,995',\n",
       "  '27,995',\n",
       "  '27,995',\n",
       "  '858',\n",
       "  '1,932',\n",
       "  '1,820',\n",
       "  '1,820',\n",
       "  '27,995',\n",
       "  '32,379',\n",
       "  '5,345',\n",
       "  '27,995'],\n",
       " 'rule_sikz': ['27,995',\n",
       "  '27,995',\n",
       "  '1,820',\n",
       "  '1,820',\n",
       "  '5,345',\n",
       "  '27,995',\n",
       "  '27,995',\n",
       "  '27,995',\n",
       "  '858',\n",
       "  '1,932',\n",
       "  '1,820',\n",
       "  '1,820',\n",
       "  '27,995',\n",
       "  '32,379',\n",
       "  '5,345',\n",
       "  '27,995'],\n",
       " 'rule_3py2': ['5,345', '1,820']}"
      ]
     },
     "execution_count": 14,
     "metadata": {},
     "output_type": "execute_result"
    }
   ],
   "source": [
    "scraper.get_result_similar(url,grouped=True)"
   ]
  },
  {
   "cell_type": "code",
   "execution_count": 17,
   "id": "6d7dc6ee-1ef1-47f1-ab55-2fd44424e293",
   "metadata": {},
   "outputs": [],
   "source": [
    "scraper.set_rule_aliases({'rule_vw4t':'Title','rule_trkd':'Price','rule_d7yx':'Reviews'})\n",
    "scraper.keep_rules(['rule_vw4t','rule_trkd','rule_d7yx'])\n",
    "scraper.save('amazon-search')"
   ]
  },
  {
   "cell_type": "code",
   "execution_count": 30,
   "id": "90a0423f-27ee-42c8-b9dd-54cba47e2a6a",
   "metadata": {},
   "outputs": [],
   "source": [
    "results=scraper.get_result_similar('https://www.amazon.in/s?k=mi+phone&i=electronics&rh=n%3A976419031%2Cp_36%3A730000-%2Cp_n_feature_thirty_browse-bin%3A44897296031&dc&crid=255HBA8J6MTO6&qid=1721083265&sprefix=MI+%2Caps%2C420&ref=sr_ex_p_123_0&ds=v1%3AhWnTru2svRCdvKv7%2BfKF3aQgpt1aSL6%2BOLAXeUnHJzA',group_by_alias=True)\n"
   ]
  },
  {
   "cell_type": "code",
   "execution_count": 33,
   "id": "4601cf41-733a-47d4-b375-7c83b2a7884a",
   "metadata": {},
   "outputs": [],
   "source": [
    "data1=results['Title']\n",
    "data2=results['Price']\n",
    "data3=results['Reviews']"
   ]
  },
  {
   "cell_type": "code",
   "execution_count": 37,
   "id": "d886700d-a7c4-46a2-a6da-da61eabe1194",
   "metadata": {},
   "outputs": [
    {
     "name": "stdout",
     "output_type": "stream",
     "text": [
      "['Amazon\\'s Choicefor \"mi phone\"', 'Redmi 13C (Starfrost White, 4GB RAM, 128GB Storage) | Powered by 4G MediaTek Helio G85 | 90Hz Display | 50MP AI Triple Camera', 'Redmi 13C (Starshine Green, 4GB RAM, 128GB Storage) | Powered by 4G MediaTek Helio G85 | 90Hz Display | 50MP AI Triple Camera', 'Redmi 13C 5G (Startrail Green, 4GB RAM, 128GB Storage) | MediaTek Dimensity 6100+ 5G | 90Hz Display', 'Redmi 13C 5G (Starlight Black, 4GB RAM, 128GB Storage) | MediaTek Dimensity 6100+ 5G | 90Hz Display', 'Redmi 13C 5G (Startrail Silver, 4GB RAM, 128GB Storage) | MediaTek Dimensity 6100+ 5G | 90Hz Display', 'Redmi 12 5G Jade Black 4GB RAM 128GB ROM', 'POCO M6 5G (Orion Blue, 4GB RAM, 128GB Storage)', 'Xiaomi Mi A3 (More Than White, 4GB RAM, 64GB Storage)', 'Samsung Galaxy M04 Light Green, 4GB RAM, 128GB Storage | Upto 8GB RAM with RAM Plus | MediaTek Helio P35 Octa-core Processor | 5000 mAh battery | 13MP Dual Camera', 'Redmi 9 Power (Blazing Blue, 4GB RAM, 64GB Storage) - 6000mAh Battery |FHD+ Screen| 48MP Quad Camera', 'Redmi A3 (Midnight Black, 4GB RAM, 128GB Storage) | Premium Halo Design | 90Hz Display | Powerful 4G G36 Processor', 'Redmi A3 (Lake Blue, 4GB RAM, 128GB Storage) | Premium Halo Design | 90Hz Display | Powerful 4G G36 Processor', 'Lava Blaze 5G (Glass Green, 4GB RAM, UFS 2.2 128GB Storage) | 5G Ready | 50MP AI Triple Camera | Upto 7GB Expandable RAM | Charger included | Clean Android (No Bloatware)', 'Redmi Note 12 5G Matte Black 4GB RAM 128GB ROM | 1st phone with 120Hz Super AMOLED and Snapdragon® 4 Gen 1 | 48MP AI Triple camera', 'Redmi 11 Prime 5G (Thunder Black, 4GB RAM, 64GB Storage) | Prime Design | MTK Dimensity 700 | 50 MP Dual Cam | 5000mAh | 7 Band 5G', 'Redmi Note 11 (Space Black, 4GB RAM, 64GB Storage)|90Hz FHD+ AMOLED Display | Qualcomm® SnapdragonTM 680-6nm | 33W Charger included', 'Redmi 11 Prime (Playful Green, 4GB RAM, 64GB Storage) | Prime Design | High Performance Helio G99 | 50 MP AI Triple Cam | 5000 mAh | 22.5W', 'TECNO Spark GO 2024 | Magic Skin Green, (4GB+128GB)| Segment First 90Hz Dot-in Display with Dynamic Port & Dual Speakers with DTS| 5000mAh| 10W Type-C| Fingerprint Sensor| Octa-Core Processor', 'Redmi A3 Olive Green 4GB RAM 128GB ROM without offer', 'Redmi A3 (Lake Blue, 4GB RAM, 128GB Storage) | Premium Halo Design | 90Hz Display | Powerful 4G G36 Processor', 'realme narzo N53 (Feather Black, 4GB+64GB) 33W Segment Fastest Charging | Slim Smartphone | 90 Hz Smooth Display', 'Redmi A3 Midnight Black 4GB RAM 128GB ROM without offer', '(Refurbished) Xiaomi Mi A3 (Not Just Blue, 4GB RAM, 64GB Storage)', '(Refurbished) Redmi 9i (Midnight Black, 4GB RAM, 64GB Storage)']\n"
     ]
    }
   ],
   "source": [
    "print(data1)"
   ]
  },
  {
   "cell_type": "code",
   "execution_count": 38,
   "id": "1ab5155e-4028-41c4-84ed-f22484993be5",
   "metadata": {},
   "outputs": [
    {
     "name": "stdout",
     "output_type": "stream",
     "text": [
      "['₹7,698', '₹7,698', '₹10,499', '₹10,499', '₹10,499', '₹11,998', '₹8,999', '₹11,499', '₹8,999', '₹7,999', '₹7,999', '₹7,999', '₹8,999', '₹13,799', '₹10,888', '₹8,999', '₹7,399', '₹7,780', '₹7,795', '₹7,999', '₹7,790', '₹7,999', '₹7,880']\n"
     ]
    }
   ],
   "source": [
    "print(data2)"
   ]
  },
  {
   "cell_type": "code",
   "execution_count": 39,
   "id": "841c081c-a027-44d0-992a-7f5e7b73f684",
   "metadata": {},
   "outputs": [
    {
     "name": "stdout",
     "output_type": "stream",
     "text": [
      "['5,472', '5,472', '1,361', '1,113', '988', '1,459', '693', '15,052', '21,364', '118,270', '293', '293', '5,114', '1,477', '2,376', '31,527', '425', '980', '293', '293', '9,574', '293', '30', '85']\n"
     ]
    }
   ],
   "source": [
    "print(data3)"
   ]
  },
  {
   "cell_type": "code",
   "execution_count": 45,
   "id": "47d4817c-94fc-4084-8024-19a88d4d1718",
   "metadata": {},
   "outputs": [],
   "source": [
    "import csv\n",
    "\n",
    "def write_columns_to_csv(column_data, file_name):\n",
    "  \"\"\"Writes data to a CSV file column-wise.\n",
    "\n",
    "  Args:\n",
    "    column_data: A list of lists, where each inner list represents a column.\n",
    "    file_name: The name of the output CSV file.\n",
    "  \"\"\"\n",
    "\n",
    "  # Transpose the data to create row-wise format\n",
    "  row_data = list(zip(*column_data))\n",
    "\n",
    "  with open(file_name, 'w', newline='',encoding='utf-8') as csvfile:\n",
    "    csv_writer = csv.writer(csvfile)\n",
    "    csv_writer.writerows(row_data)\n",
    "\n",
    "# Example usage:\n",
    "column_data = [\n",
    "   [ 'Redmi 13C (Starfrost White, 4GB RAM, 128GB Storage) | Powered by 4G MediaTek Helio G85 | 90Hz Display | 50MP AI Triple Camera', 'Redmi 13C (Starshine Green, 4GB RAM, 128GB Storage) | Powered by 4G MediaTek Helio G85 | 90Hz Display | 50MP AI Triple Camera', 'Redmi 13C 5G (Startrail Green, 4GB RAM, 128GB Storage) | MediaTek Dimensity 6100+ 5G | 90Hz Display', 'Redmi 13C 5G (Starlight Black, 4GB RAM, 128GB Storage) | MediaTek Dimensity 6100+ 5G | 90Hz Display', 'Redmi 13C 5G (Startrail Silver, 4GB RAM, 128GB Storage) | MediaTek Dimensity 6100+ 5G | 90Hz Display', 'Redmi 12 5G Jade Black 4GB RAM 128GB ROM', 'POCO M6 5G (Orion Blue, 4GB RAM, 128GB Storage)', 'Xiaomi Mi A3 (More Than White, 4GB RAM, 64GB Storage)', 'Samsung Galaxy M04 Light Green, 4GB RAM, 128GB Storage | Upto 8GB RAM with RAM Plus | MediaTek Helio P35 Octa-core Processor | 5000 mAh battery | 13MP Dual Camera', 'Redmi 9 Power (Blazing Blue, 4GB RAM, 64GB Storage) - 6000mAh Battery |FHD+ Screen| 48MP Quad Camera', 'Redmi A3 (Midnight Black, 4GB RAM, 128GB Storage) | Premium Halo Design | 90Hz Display | Powerful 4G G36 Processor', 'Redmi A3 (Lake Blue, 4GB RAM, 128GB Storage) | Premium Halo Design | 90Hz Display | Powerful 4G G36 Processor', 'Lava Blaze 5G (Glass Green, 4GB RAM, UFS 2.2 128GB Storage) | 5G Ready | 50MP AI Triple Camera | Upto 7GB Expandable RAM | Charger included | Clean Android (No Bloatware)', 'Redmi Note 12 5G Matte Black 4GB RAM 128GB ROM | 1st phone with 120Hz Super AMOLED and Snapdragon® 4 Gen 1 | 48MP AI Triple camera', 'Redmi 11 Prime 5G (Thunder Black, 4GB RAM, 64GB Storage) | Prime Design | MTK Dimensity 700 | 50 MP Dual Cam | 5000mAh | 7 Band 5G', 'Redmi Note 11 (Space Black, 4GB RAM, 64GB Storage)|90Hz FHD+ AMOLED Display | Qualcomm® SnapdragonTM 680-6nm | 33W Charger included', 'Redmi 11 Prime (Playful Green, 4GB RAM, 64GB Storage) | Prime Design | High Performance Helio G99 | 50 MP AI Triple Cam | 5000 mAh | 22.5W', 'TECNO Spark GO 2024 | Magic Skin Green, (4GB+128GB)| Segment First 90Hz Dot-in Display with Dynamic Port & Dual Speakers with DTS| 5000mAh| 10W Type-C| Fingerprint Sensor| Octa-Core Processor', 'Redmi A3 Olive Green 4GB RAM 128GB ROM without offer', 'Redmi A3 (Lake Blue, 4GB RAM, 128GB Storage) | Premium Halo Design | 90Hz Display | Powerful 4G G36 Processor', 'realme narzo N53 (Feather Black, 4GB+64GB) 33W Segment Fastest Charging | Slim Smartphone | 90 Hz Smooth Display', 'Redmi A3 Midnight Black 4GB RAM 128GB ROM without offer', '(Refurbished) Xiaomi Mi A3 (Not Just Blue, 4GB RAM, 64GB Storage)', '(Refurbished) Redmi 9i (Midnight Black, 4GB RAM, 64GB Storage)'],\n",
    "    ['₹7,698', '₹7,698', '₹10,499', '₹10,499', '₹10,499', '₹11,998', '₹8,999', '₹11,499', '₹8,999', '₹7,999', '₹7,999', '₹7,999', '₹8,999', '₹13,799', '₹10,888', '₹8,999', '₹7,399', '₹7,780', '₹7,795', '₹7,999', '₹7,790', '₹7,999', '₹7,880'],\n",
    "    ['5,472', '5,472', '1,361', '1,113', '988', '1,459', '693', '15,052', '21,364', '118,270', '293', '293', '5,114', '1,477', '2,376', '31,527', '425', '980', '293', '293', '9,574', '293', '30', '85']\n",
    "]\n",
    "\n",
    "write_columns_to_csv(column_data, 'output.csv')\n",
    "\n"
   ]
  },
  {
   "cell_type": "code",
   "execution_count": null,
   "id": "47766260-5b64-4bf2-83cb-27986bf187e4",
   "metadata": {},
   "outputs": [],
   "source": [
    "data1=['Amazon\\'s Choicefor \"mi phone\"', 'Redmi 13C (Starfrost White, 4GB RAM, 128GB Storage) | Powered by 4G MediaTek Helio G85 | 90Hz Display | 50MP AI Triple Camera', 'Redmi 13C (Starshine Green, 4GB RAM, 128GB Storage) | Powered by 4G MediaTek Helio G85 | 90Hz Display | 50MP AI Triple Camera', 'Redmi 13C 5G (Startrail Green, 4GB RAM, 128GB Storage) | MediaTek Dimensity 6100+ 5G | 90Hz Display', 'Redmi 13C 5G (Starlight Black, 4GB RAM, 128GB Storage) | MediaTek Dimensity 6100+ 5G | 90Hz Display', 'Redmi 13C 5G (Startrail Silver, 4GB RAM, 128GB Storage) | MediaTek Dimensity 6100+ 5G | 90Hz Display', 'Redmi 12 5G Jade Black 4GB RAM 128GB ROM', 'POCO M6 5G (Orion Blue, 4GB RAM, 128GB Storage)', 'Xiaomi Mi A3 (More Than White, 4GB RAM, 64GB Storage)', 'Samsung Galaxy M04 Light Green, 4GB RAM, 128GB Storage | Upto 8GB RAM with RAM Plus | MediaTek Helio P35 Octa-core Processor | 5000 mAh battery | 13MP Dual Camera', 'Redmi 9 Power (Blazing Blue, 4GB RAM, 64GB Storage) - 6000mAh Battery |FHD+ Screen| 48MP Quad Camera', 'Redmi A3 (Midnight Black, 4GB RAM, 128GB Storage) | Premium Halo Design | 90Hz Display | Powerful 4G G36 Processor', 'Redmi A3 (Lake Blue, 4GB RAM, 128GB Storage) | Premium Halo Design | 90Hz Display | Powerful 4G G36 Processor', 'Lava Blaze 5G (Glass Green, 4GB RAM, UFS 2.2 128GB Storage) | 5G Ready | 50MP AI Triple Camera | Upto 7GB Expandable RAM | Charger included | Clean Android (No Bloatware)', 'Redmi Note 12 5G Matte Black 4GB RAM 128GB ROM | 1st phone with 120Hz Super AMOLED and Snapdragon® 4 Gen 1 | 48MP AI Triple camera', 'Redmi 11 Prime 5G (Thunder Black, 4GB RAM, 64GB Storage) | Prime Design | MTK Dimensity 700 | 50 MP Dual Cam | 5000mAh | 7 Band 5G', 'Redmi Note 11 (Space Black, 4GB RAM, 64GB Storage)|90Hz FHD+ AMOLED Display | Qualcomm® SnapdragonTM 680-6nm | 33W Charger included', 'Redmi 11 Prime (Playful Green, 4GB RAM, 64GB Storage) | Prime Design | High Performance Helio G99 | 50 MP AI Triple Cam | 5000 mAh | 22.5W', 'TECNO Spark GO 2024 | Magic Skin Green, (4GB+128GB)| Segment First 90Hz Dot-in Display with Dynamic Port & Dual Speakers with DTS| 5000mAh| 10W Type-C| Fingerprint Sensor| Octa-Core Processor', 'Redmi A3 Olive Green 4GB RAM 128GB ROM without offer', 'Redmi A3 (Lake Blue, 4GB RAM, 128GB Storage) | Premium Halo Design | 90Hz Display | Powerful 4G G36 Processor', 'realme narzo N53 (Feather Black, 4GB+64GB) 33W Segment Fastest Charging | Slim Smartphone | 90 Hz Smooth Display', 'Redmi A3 Midnight Black 4GB RAM 128GB ROM without offer', '(Refurbished) Xiaomi Mi A3 (Not Just Blue, 4GB RAM, 64GB Storage)', '(Refurbished) Redmi 9i (Midnight Black, 4GB RAM, 64GB Storage)']\n",
    "data2=['₹7,698', '₹7,698', '₹10,499', '₹10,499', '₹10,499', '₹11,998', '₹8,999', '₹11,499', '₹8,999', '₹7,999', '₹7,999', '₹7,999', '₹8,999', '₹13,799', '₹10,888', '₹8,999', '₹7,399', '₹7,780', '₹7,795', '₹7,999', '₹7,790', '₹7,999', '₹7,880']\n",
    "data3=['5,472', '5,472', '1,361', '1,113', '988', '1,459', '693', '15,052', '21,364', '118,270', '293', '293', '5,114', '1,477', '2,376', '31,527', '425', '980', '293', '293', '9,574', '293', '30', '85']"
   ]
  },
  {
   "cell_type": "code",
   "execution_count": null,
   "id": "922b234b-f18e-4b35-aaf6-392122c6c77a",
   "metadata": {},
   "outputs": [],
   "source": []
  }
 ],
 "metadata": {
  "kernelspec": {
   "display_name": "Python 3 (ipykernel)",
   "language": "python",
   "name": "python3"
  },
  "language_info": {
   "codemirror_mode": {
    "name": "ipython",
    "version": 3
   },
   "file_extension": ".py",
   "mimetype": "text/x-python",
   "name": "python",
   "nbconvert_exporter": "python",
   "pygments_lexer": "ipython3",
   "version": "3.11.7"
  }
 },
 "nbformat": 4,
 "nbformat_minor": 5
}
